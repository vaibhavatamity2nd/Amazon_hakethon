{
 "cells": [
  {
   "cell_type": "code",
   "execution_count": 1,
   "id": "9c344955-1513-41a0-9b33-06db0b389a84",
   "metadata": {},
   "outputs": [
    {
     "name": "stdout",
     "output_type": "stream",
     "text": [
      "Hello, chotu!\n"
     ]
    }
   ],
   "source": [
    "print(\"Hello, chotu!\")"
   ]
  },
  {
   "cell_type": "code",
   "execution_count": null,
   "id": "d0643fb7-09ff-4988-9863-3d40e0c9a51e",
   "metadata": {},
   "outputs": [],
   "source": [
    "import pandas as pd\n",
    "from PIL import Image\n",
    "import requests\n",
    "from io import BytesIO\n",
    "import numpy as np\n",
    "\n",
    "def download_image(image_url):\n",
    "    response = requests.get(image_url)\n",
    "    img = Image.open(BytesIO(response.content))\n",
    "    img = img.resize((224, 224))  # Resize to fit model input\n",
    "    img = np.array(img) / 255.0  # Normalize\n",
    "    return img\n",
    "\n",
    "# Load train and test data\n",
    "train_df = pd.read_csv('/workspaces/python/amazon_ml/student_resource_3/dataset/train.csv')\n",
    "test_df = pd.read_csv('/workspaces/python/amazon_ml/student_resource_3/dataset/test.csv')\n",
    "\n",
    "# Prepare training data\n",
    "train_images = np.array([download_image(url) for url in train_df['image_link']])\n",
    "train_labels = train_df['entity_value'].values\n",
    "\n",
    "# Prepare test data\n",
    "test_images = np.array([download_image(url) for url in test_df['image_link']])\n",
    "\n"
   ]
  },
  {
   "cell_type": "code",
   "execution_count": null,
   "id": "78c7118e-80ef-40d1-b678-fc9827d3557c",
   "metadata": {},
   "outputs": [],
   "source": []
  },
  {
   "cell_type": "code",
   "execution_count": null,
   "id": "5432c14d-c013-473d-b7da-9a5b1ca3abf8",
   "metadata": {},
   "outputs": [],
   "source": []
  }
 ],
 "metadata": {
  "kernelspec": {
   "display_name": "Python 3 (ipykernel)",
   "language": "python",
   "name": "python3"
  },
  "language_info": {
   "codemirror_mode": {
    "name": "ipython",
    "version": 3
   },
   "file_extension": ".py",
   "mimetype": "text/x-python",
   "name": "python",
   "nbconvert_exporter": "python",
   "pygments_lexer": "ipython3",
   "version": "3.10.13"
  }
 },
 "nbformat": 4,
 "nbformat_minor": 5
}
